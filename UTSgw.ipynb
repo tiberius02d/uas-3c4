{
 "cells": [
  {
   "cell_type": "code",
   "execution_count": 6,
   "id": "9a76e2eb",
   "metadata": {},
   "outputs": [
    {
     "name": "stdout",
     "output_type": "stream",
     "text": [
      "name     : Tiberius Lasyelem\n",
      "ttl      :  Bengakayang, 10-11-2002\n",
      "address  : desa lembang, sanggau ledo\n",
      "                           Education\n",
      "\n",
      "- SMAN 01 Sanggau Ledo,\n",
      "- SMPN 01 Sanggau Ledo,\n",
      "- SDN 02 Sanggau Ledo\n",
      " \n",
      "\n",
      "- OMK Santo Petrus Sanggau Ledo\n",
      "\n",
      "\n",
      "- +628 5750082773 (Whatsapp)\n",
      "- @0.02t_(Instagram/twitter)\n",
      "- tlasyelem@gmail.com (email)\n",
      "\n"
     ]
    }
   ],
   "source": [
    "nama= \"Tiberius Lasyelem\"\n",
    "ttl= \" Bengakayang, 10-11-2002\"\n",
    "alamat= \"desa lembang, sanggau ledo\"\n",
    "\n",
    "edc = \"Education\"\n",
    "conedc = \"\"\"\n",
    "- SMAN 01 Sanggau Ledo,\n",
    "- SMPN 01 Sanggau Ledo,\n",
    "- SDN 02 Sanggau Ledo\"\"\"\n",
    "\n",
    "org = \"\"\"\n",
    "- OMK Santo Petrus Sanggau Ledo\n",
    "\"\"\"\n",
    "\n",
    "ctc = \"\"\"\n",
    "- +628 5750082773 (Whatsapp)\n",
    "- @0.02t_(Instagram/twitter)\n",
    "- tlasyelem@gmail.com (email)\n",
    "\"\"\"\n",
    "print(\"name     :\", nama)\n",
    "print(\"ttl      :\",ttl)\n",
    "print(\"address  :\", alamat)\n",
    "\n",
    "print('{:>36}'.format(edc))\n",
    "print (conedc)\n",
    "print (\" \")\n",
    "\n",
    "print (org)\n",
    "\n",
    "print (ctc)"
   ]
  },
  {
   "cell_type": "code",
   "execution_count": 7,
   "id": "e5b046d6",
   "metadata": {},
   "outputs": [
    {
     "name": "stdout",
     "output_type": "stream",
     "text": [
      "Panjang : 100\n",
      "Lebar :200\n",
      "Luas Persegi Panjang Adalah :  20000\n"
     ]
    }
   ],
   "source": [
    "panjang = int(input(\"Panjang : \"))\n",
    "lebar = int(input(\"Lebar :\"))\n",
    "\n",
    "luas = panjang*lebar\n",
    "\n",
    "print (\"Luas Persegi Panjang Adalah : \",luas)"
   ]
  },
  {
   "cell_type": "code",
   "execution_count": 8,
   "id": "efe6e7c9",
   "metadata": {},
   "outputs": [
    {
     "name": "stdout",
     "output_type": "stream",
     "text": [
      "Celcius : 25\n",
      "Celcius    :  25\n",
      "Reamur     :  20.0\n",
      "Fahrenheit :  77.0\n"
     ]
    }
   ],
   "source": [
    "celcius = int(input(\"Celcius : \"))\n",
    "reamur = celcius*0.8\n",
    "fahrenheit = celcius*1.8 + 32\n",
    "    \n",
    "print(\"Celcius    : \",celcius)\n",
    "print(\"Reamur     : \",reamur)\n",
    "print(\"Fahrenheit : \",fahrenheit)"
   ]
  },
  {
   "cell_type": "code",
   "execution_count": 10,
   "id": "7650f747",
   "metadata": {},
   "outputs": [
    {
     "name": "stdout",
     "output_type": "stream",
     "text": [
      "Masukkan Jumlah Detik :60\n",
      "Hari  :  0\n",
      "Jam   :  0\n",
      "Menit :  1\n",
      "Detik :  0\n"
     ]
    }
   ],
   "source": [
    "detik = int(input(\"Masukkan Jumlah Detik :\"))\n",
    "\n",
    "hari = detik/86400\n",
    "temp1 = detik%86400\n",
    "jam = temp1/3600\n",
    "temp2 = temp1%3600\n",
    "menit = temp2/60\n",
    "detik = temp2%60\n",
    "\n",
    "print (\"Hari  : \",round(hari))\n",
    "print (\"Jam   : \",round(jam))\n",
    "print (\"Menit : \",round(menit))\n",
    "print (\"Detik : \",round(detik))"
   ]
  },
  {
   "cell_type": "code",
   "execution_count": 11,
   "id": "d5601189",
   "metadata": {},
   "outputs": [
    {
     "name": "stdout",
     "output_type": "stream",
     "text": [
      "Panjang jari-jari :57657\n",
      "Luas Lingkaran : 10447893182.571428\n"
     ]
    }
   ],
   "source": [
    "\n",
    "jari = int(input(\"Panjang jari-jari :\"))\n",
    "phi = 22/7\n",
    "luas = float(phi*jari**2)\n",
    "\n",
    "print (\"Luas Lingkaran :\", luas)"
   ]
  },
  {
   "cell_type": "code",
   "execution_count": null,
   "id": "7beca9f9",
   "metadata": {},
   "outputs": [],
   "source": []
  }
 ],
 "metadata": {
  "kernelspec": {
   "display_name": "Python 3",
   "language": "python",
   "name": "python3"
  }
 },
 "nbformat": 4,
 "nbformat_minor": 5
}
