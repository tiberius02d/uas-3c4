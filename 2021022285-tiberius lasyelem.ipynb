{
 "cells": [
  {
   "cell_type": "code",
   "execution_count": 3,
   "id": "1d41ce6f",
   "metadata": {
    "scrolled": true
   },
   "outputs": [
    {
     "name": "stdout",
     "output_type": "stream",
     "text": [
      "panjang = 12\n",
      "lebar = 12\n",
      "\n",
      "hasil dari perhitungan persegi panjang tersebut :\n",
      "\\keliling :  48\n",
      "luas      :  144\n"
     ]
    }
   ],
   "source": [
    "pjg = int(input(\"panjang = \"))\n",
    "lbr = int(input(\"lebar = \"))\n",
    "\n",
    "def jawaban_1(pjg, lbr):\n",
    "    keliling = (2*pjg) + (2*lbr)\n",
    "    luas = (pjg * lbr)\n",
    "    print(\"\\nhasil dari perhitungan persegi panjang tersebut :\")\n",
    "    print(\"\\keliling : \", keliling);\n",
    "    print(\"luas      : \", luas)\n",
    "    \n",
    "jawaban_1(pjg, lbr)   "
   ]
  },
  {
   "cell_type": "code",
   "execution_count": 8,
   "id": "03be4ce7",
   "metadata": {},
   "outputs": [
    {
     "ename": "NameError",
     "evalue": "name 'data' is not defined",
     "output_type": "error",
     "traceback": [
      "\u001b[1;31m---------------------------------------------------------------------------\u001b[0m",
      "\u001b[1;31mNameError\u001b[0m                                 Traceback (most recent call last)",
      "\u001b[1;32m~\\AppData\\Local\\Temp/ipykernel_3060/3804166310.py\u001b[0m in \u001b[0;36m<module>\u001b[1;34m\u001b[0m\n\u001b[0;32m     16\u001b[0m         \u001b[0mprint\u001b[0m \u001b[1;33m(\u001b[0m\u001b[1;34m\"NIM    : \"\u001b[0m\u001b[1;33m,\u001b[0m \u001b[0mself\u001b[0m\u001b[1;33m.\u001b[0m\u001b[0mnim\u001b[0m\u001b[1;33m)\u001b[0m\u001b[1;33m\u001b[0m\u001b[1;33m\u001b[0m\u001b[0m\n\u001b[0;32m     17\u001b[0m \u001b[1;33m\u001b[0m\u001b[0m\n\u001b[1;32m---> 18\u001b[1;33m \u001b[0mdata\u001b[0m\u001b[1;33m.\u001b[0m\u001b[0mdatadiri\u001b[0m\u001b[1;33m(\u001b[0m\u001b[1;34m\"nama\"\u001b[0m\u001b[1;33m,\u001b[0m\u001b[1;34m\"alamat\"\u001b[0m\u001b[1;33m,\u001b[0m\u001b[1;34m\"nim\"\u001b[0m\u001b[1;33m)\u001b[0m\u001b[1;33m\u001b[0m\u001b[1;33m\u001b[0m\u001b[0m\n\u001b[0m\u001b[0;32m     19\u001b[0m \u001b[0mdata\u001b[0m\u001b[1;33m.\u001b[0m\u001b[0minput\u001b[0m\u001b[1;33m(\u001b[0m\u001b[1;33m)\u001b[0m\u001b[1;33m\u001b[0m\u001b[1;33m\u001b[0m\u001b[0m\n\u001b[0;32m     20\u001b[0m \u001b[0mdata\u001b[0m\u001b[1;33m.\u001b[0m\u001b[0mcetak\u001b[0m\u001b[1;33m(\u001b[0m\u001b[1;33m)\u001b[0m\u001b[1;33m\u001b[0m\u001b[1;33m\u001b[0m\u001b[0m\n",
      "\u001b[1;31mNameError\u001b[0m: name 'data' is not defined"
     ]
    }
   ],
   "source": [
    "class biodata():\n",
    "    def _init_(self,nama,alamat, nim):\n",
    "        \n",
    "        print(\"Inputkan Biodata Anda\")\n",
    "        \n",
    "    def input(self):\n",
    "        self.nama = input(\"Nama   : \")\n",
    "        self.alamat = input(\"Alamat : \")\n",
    "        self.nim = input(\"NIM    : \")\n",
    "        \n",
    "class datadiri(biodata):\n",
    "    def cetak(self):\n",
    "        print (\"\\n\\nBerikut adalah data diri yang telah di input \")\n",
    "        print (\"Nama   : \", self.nama)\n",
    "        print (\"Alamat : \", self.alamat)\n",
    "        print (\"NIM    : \", self.nim)\n",
    "        \n",
    "data = datadiri(\"nama\",\"alamat\",\"nim\")\n",
    "data.input()\n",
    "data.cetak()"
   ]
  },
  {
   "cell_type": "code",
   "execution_count": null,
   "id": "86013ae3",
   "metadata": {},
   "outputs": [
    {
     "name": "stdout",
     "output_type": "stream",
     "text": [
      "1. +\n",
      "2. -\n",
      "3. *\n",
      "4. /\n",
      "5. x\n",
      "Pilih operasi :2\n",
      "\n",
      "Masukkan Angka Pertama :12\n",
      "\n",
      "Masukkan Angka Kedua   :11\n",
      "12 - 11 = 1\n",
      "1. +\n",
      "2. -\n",
      "3. *\n",
      "4. /\n",
      "5. x\n"
     ]
    }
   ],
   "source": [
    "class calculator:\n",
    "    def tambah(self, a, b):\n",
    "        return a+b\n",
    "    def kurang(self, a, b):\n",
    "        return a-b\n",
    "    def kali(self, a, b):\n",
    "        return a*b\n",
    "    def bagi(self, a, b):\n",
    "        return a/b\n",
    "    \n",
    "kalkulatorku = calculator()\n",
    "\n",
    "while True:\n",
    "    print(\"1. +\")\n",
    "    print(\"2. -\")\n",
    "    print(\"3. *\")\n",
    "    print(\"4. /\")\n",
    "    print(\"5. x\")\n",
    "    \n",
    "    ch = int(input(\"Pilih operasi :\"))\n",
    "    \n",
    "    if ch in (1, 2, 3, 4, 5):\n",
    "        if(ch==5):\n",
    "            break\n",
    "            \n",
    "        a = int(input(\"\\nMasukkan Angka Pertama :\"))\n",
    "        b = int(input(\"\\nMasukkan Angka Kedua   :\"))\n",
    "        \n",
    "        if(ch==1):\n",
    "            print(a, \"+\", b, \"=\", kalkulatorku.tambah(a,b))\n",
    "            \n",
    "        elif(ch==2):\n",
    "            print(a, \"-\", b, \"=\", kalkulatorku.kurang(a,b))\n",
    "            \n",
    "        elif(ch==3):\n",
    "            print(a, \"x\", b, \"=\", kalkulatorku.kali(a,b))\n",
    "            \n",
    "        elif(ch==4):\n",
    "            print(a, \":\", b, \"=\", kalkulatorku.bagi(a,b))\n",
    "            \n",
    "    else:\n",
    "        print(\"Invalid Input\")"
   ]
  },
  {
   "cell_type": "code",
   "execution_count": null,
   "id": "c1a10041",
   "metadata": {},
   "outputs": [],
   "source": []
  }
 ],
 "metadata": {
  "kernelspec": {
   "display_name": "Python 3 (ipykernel)",
   "language": "python",
   "name": "python3"
  },
  "language_info": {
   "codemirror_mode": {
    "name": "ipython",
    "version": 3
   },
   "file_extension": ".py",
   "mimetype": "text/x-python",
   "name": "python",
   "nbconvert_exporter": "python",
   "pygments_lexer": "ipython3",
   "version": "3.9.7"
  }
 },
 "nbformat": 4,
 "nbformat_minor": 5
}
